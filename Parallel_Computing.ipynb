{
  "nbformat": 4,
  "nbformat_minor": 0,
  "metadata": {
    "colab": {
      "name": "Parallel_Computing.ipynb",
      "version": "0.3.2",
      "provenance": [],
      "include_colab_link": true
    },
    "kernelspec": {
      "name": "python3",
      "display_name": "Python 3"
    }
  },
  "cells": [
    {
      "cell_type": "markdown",
      "metadata": {
        "id": "view-in-github",
        "colab_type": "text"
      },
      "source": [
        "<a href=\"https://colab.research.google.com/github/paulgureghian/Parallel_Computing/blob/master/Parallel_Computing.ipynb\" target=\"_parent\"><img src=\"https://colab.research.google.com/assets/colab-badge.svg\" alt=\"Open In Colab\"/></a>"
      ]
    },
    {
      "metadata": {
        "id": "NxakftkvMI_N",
        "colab_type": "text"
      },
      "cell_type": "markdown",
      "source": [
        "### **Created by Paul A. Gureghian in Mar 2019.**"
      ]
    },
    {
      "metadata": {
        "id": "swGh-FbHMRwW",
        "colab_type": "text"
      },
      "cell_type": "markdown",
      "source": [
        "### **An end-to-end example of 'Parallel Computing' in Python.**"
      ]
    },
    {
      "metadata": {
        "id": "k0upqffrMFSP",
        "colab_type": "code",
        "colab": {}
      },
      "cell_type": "code",
      "source": [
        "### Import packages \n",
        "import collections\n",
        "import multiprocessing"
      ],
      "execution_count": 0,
      "outputs": []
    },
    {
      "metadata": {
        "id": "2Zm1GJ5bOYqA",
        "colab_type": "code",
        "colab": {}
      },
      "cell_type": "code",
      "source": [
        "### Define a dataset\n",
        "Scientist = collections.namedtuple('Scientist',['name', 'born',])\n",
        "                                   \n",
        "scientists = (\n",
        "             Scientist(name='Ada Lovelace', born=1815),\n",
        "             Scientist(name='Emmy Noether', born=1882),\n",
        "             Scientist(name='Marie Curie', born=1867),\n",
        "             Scientist(name='Tu Youyou',born=1930),\n",
        "             Scientist(name='Ada Yonath', born=1939),\n",
        "             Scientist(name='Vera Rubin', born=1928),\n",
        "             Scientist(name='Sally Ride', born=1951),\n",
        "             )"
      ],
      "execution_count": 0,
      "outputs": []
    },
    {
      "metadata": {
        "id": "FXRjvdMMOhS5",
        "colab_type": "code",
        "colab": {}
      },
      "cell_type": "code",
      "source": [
        "### Define 'process_item' function\n",
        "def process_item(item):\n",
        "    \n",
        "    return{'name': item.name, 'age': 2017 - item.born} "
      ],
      "execution_count": 0,
      "outputs": []
    },
    {
      "metadata": {
        "id": "v64ncl4SOhRh",
        "colab_type": "code",
        "colab": {}
      },
      "cell_type": "code",
      "source": [
        "### Setup a 'multiprocessing pool' \n",
        "pool = multiprocessing.Pool()\n",
        "result = pool.map(process_item, scientists)  "
      ],
      "execution_count": 0,
      "outputs": []
    },
    {
      "metadata": {
        "id": "IDiC-XEYRf5X",
        "colab_type": "code",
        "colab": {
          "base_uri": "https://localhost:8080/",
          "height": 54
        },
        "outputId": "8c790309-5c6c-4a19-edd5-2e82848e0677"
      },
      "cell_type": "code",
      "source": [
        "### Print data transformation results\n",
        "print(tuple(result)) "
      ],
      "execution_count": 6,
      "outputs": [
        {
          "output_type": "stream",
          "text": [
            "({'name': 'Ada Lovelace', 'age': 202}, {'name': 'Emmy Noether', 'age': 135}, {'name': 'Marie Curie', 'age': 150}, {'name': 'Tu Youyou', 'age': 87}, {'name': 'Ada Yonath', 'age': 78}, {'name': 'Vera Rubin', 'age': 89}, {'name': 'Sally Ride', 'age': 66})\n"
          ],
          "name": "stdout"
        }
      ]
    }
  ]
}